{
 "cells": [
  {
   "cell_type": "code",
   "execution_count": 1,
   "metadata": {},
   "outputs": [],
   "source": [
    "import numpy as np\n",
    "from matplotlib import pyplot as plt\n",
    "from uuid import uuid4, UUID\n",
    "from typing import Dict, List, Tuple, Literal, Callable, Any\n",
    "from typing_extensions import override\n",
    "from dataclasses import dataclass\n",
    "from abc import ABC, abstractmethod"
   ]
  },
  {
   "cell_type": "code",
   "execution_count": 2,
   "metadata": {},
   "outputs": [],
   "source": [
    "class NamedHashable(ABC):\n",
    "    name: str\n",
    "    id: UUID\n",
    "\n",
    "    def __init__(self, name: str, id_gen: Callable[..., UUID] | None = None) -> None:\n",
    "        if id_gen is not None:\n",
    "            self.id = id_gen()\n",
    "        else:\n",
    "            self.id = uuid4()\n",
    "        \n",
    "        self.name = name\n",
    "    \n",
    "    def __hash__(self) -> int:\n",
    "        return self.id.int\n",
    "\n",
    "    @abstractmethod\n",
    "    def __repr__(self) -> str:\n",
    "        pass"
   ]
  },
  {
   "cell_type": "code",
   "execution_count": 29,
   "metadata": {},
   "outputs": [],
   "source": [
    "class State(NamedHashable, ABC):\n",
    "    def __init__(self, name: str, **kwargs) -> None:\n",
    "        super().__init__(name=name)\n",
    "\n",
    "    @abstractmethod\n",
    "    def _repr_metadata(self) -> str | None:\n",
    "        pass\n",
    "\n",
    "    @override\n",
    "    def __repr__(self) -> str:\n",
    "        metadata = self._repr_metadata() or \"\"\n",
    "        return f\"[`{self.name}` {f'> {metadata}' if metadata is not None else ''}]\"\n",
    "\n",
    "\n",
    "class Action(NamedHashable):\n",
    "    def __init__(self, name: str) -> None:\n",
    "        super().__init__(name=name)\n",
    "\n",
    "    @override\n",
    "    def __repr__(self) -> str:\n",
    "        return f\"<`{self.name}`>\""
   ]
  },
  {
   "cell_type": "code",
   "execution_count": 4,
   "metadata": {},
   "outputs": [],
   "source": [
    "ValueFunction = Dict[State, float]"
   ]
  },
  {
   "cell_type": "code",
   "execution_count": 5,
   "metadata": {},
   "outputs": [
    {
     "data": {
      "text/plain": [
       "{<`study`>: 0.5}"
      ]
     },
     "execution_count": 5,
     "metadata": {},
     "output_type": "execute_result"
    }
   ],
   "source": [
    "class StudentAction(Action):\n",
    "    difficulty: Literal[\"EASY\", \"MED\", \"HARD\"]\n",
    "\n",
    "    def __init__(self, name: str, difficulty: Literal[\"EASY\", \"MED\", \"HARD\"]) -> None:\n",
    "        super().__init__(name=name)\n",
    "        self.difficulty = difficulty\n",
    "\n",
    "student_action1 = StudentAction(name=\"study\", difficulty=\"MED\")\n",
    "\n",
    "{\n",
    "    student_action1: 0.5\n",
    "}"
   ]
  },
  {
   "cell_type": "code",
   "execution_count": 38,
   "metadata": {},
   "outputs": [],
   "source": [
    "TransitionProbaMatrix = np.ndarray\n",
    "ActionRewardFunction = np.ndarray\n",
    "RewardFunction = Dict[Action, ActionRewardFunction]\n",
    "ValueFunction = Dict[State, float]\n",
    "Policy = Dict[State, Dict[Action, float]]"
   ]
  },
  {
   "cell_type": "code",
   "execution_count": 41,
   "metadata": {},
   "outputs": [],
   "source": [
    "class MarkovDecisionProcess:\n",
    "    _states: List[State]\n",
    "    _actions: List[Action]\n",
    "    _transition_proba: Dict[Action, TransitionProbaMatrix]\n",
    "    _reward_function: RewardFunction\n",
    "    _gamma: float\n",
    "    _values: ValueFunction\n",
    "\n",
    "    def __init__(self, name: str, states: List[State], actions: List[Action], gamma: float) -> None:\n",
    "        self.name = name\n",
    "        self._states = states\n",
    "        self._actions = actions\n",
    "        self._transition_proba = {\n",
    "            action: np.zeros(shape=(len(states), len(self._states)))\n",
    "            for action in actions\n",
    "        }\n",
    "        self._reward_function = {\n",
    "            action: np.zeros(shape=(len(states), len(self._states)))\n",
    "            for action in actions\n",
    "        }\n",
    "        self._values = {\n",
    "            state: np.random.randn()\n",
    "            for state in states\n",
    "        }\n",
    "        self._gamma = gamma\n",
    "\n",
    "    @property\n",
    "    def states(self) -> List[State]:\n",
    "        return self._states\n",
    "\n",
    "    @property\n",
    "    def actions(self) -> List[State]:\n",
    "        return self._actions\n",
    "\n",
    "    @property\n",
    "    def transition_proba(self) -> List[State]:\n",
    "        return self._transition_proba\n",
    "\n",
    "    @property\n",
    "    def reward(self) -> List[State]:\n",
    "        return self._reward_function\n",
    "\n",
    "    @property\n",
    "    def values(self) -> List[State]:\n",
    "        return self._values\n",
    "\n",
    "    def _get_state_index(self, state: State | int) -> int:\n",
    "        if isinstance(state, State):\n",
    "            return self._states.index(state)\n",
    "        else:\n",
    "            return state\n",
    "\n",
    "    def _get_action_index(self, action: Action | int) -> int:\n",
    "        if isinstance(action, Action):\n",
    "            return self._actions.index(action)\n",
    "        else:\n",
    "            return action\n",
    "\n",
    "    def set_reward(\n",
    "        self,\n",
    "        src_state: State | int,\n",
    "        action: Action | int,\n",
    "        dst_state: State | int,\n",
    "        reward: float,\n",
    "    ) -> None:\n",
    "        src_inx: int = self._get_state_index(state=src_state)\n",
    "        dst_inx: int = self._get_state_index(state=dst_state)\n",
    "        self._reward_function[action][src_inx, dst_inx] = reward\n",
    "\n",
    "    def set_state_reward(self, state: State | int, reward: float) -> None:\n",
    "        inx: int = self._get_state_index(state=state)\n",
    "        for action in self.actions:\n",
    "            self._reward_function[action][inx, :] = reward\n",
    "\n",
    "    def set_transition_proba(\n",
    "        self,\n",
    "        src_state: State | int,\n",
    "        action: Action | int,\n",
    "        dst_state: State | int,\n",
    "        proba: float,\n",
    "    ) -> None:\n",
    "        src_inx: int = self._get_state_index(state=src_state)\n",
    "        dst_inx: int = self._get_state_index(state=dst_state)\n",
    "        self._transition_proba[action][src_inx, dst_inx] = proba\n",
    "\n",
    "    def add_terminal_state(self, state: State | int) -> None:\n",
    "        inx: int = self._get_state_index(state=state)\n",
    "        for action in self._actions:\n",
    "            self._reward_function[action][inx, :] = 0.0\n",
    "\n",
    "    def solve_policy_iter(self) -> Tuple[ValueFunction, Policy]:\n",
    "        pass\n",
    "\n",
    "    def solve_value_iter(self) -> Tuple[ValueFunction, Policy]:\n",
    "        pass"
   ]
  },
  {
   "cell_type": "code",
   "execution_count": 42,
   "metadata": {},
   "outputs": [],
   "source": [
    "class StudentState(State):\n",
    "    def __init__(self, name: str) -> None:\n",
    "        super().__init__(name=name)\n",
    "    \n",
    "    @override\n",
    "    def _repr_metadata(self) -> str | None:\n",
    "        return None"
   ]
  },
  {
   "cell_type": "code",
   "execution_count": 32,
   "metadata": {},
   "outputs": [
    {
     "data": {
      "text/plain": [
       "<__main__.MarkovDecisionProcess at 0x7ac2045342f0>"
      ]
     },
     "execution_count": 32,
     "metadata": {},
     "output_type": "execute_result"
    }
   ],
   "source": [
    "class StudentMarkovDecisionProcess(MarkovDecisionProcess):\n",
    "    def __init__(self, states: List[State], actions: List[Action], rewards: List[float]) -> None:\n",
    "        "
   ]
  },
  {
   "cell_type": "code",
   "execution_count": null,
   "metadata": {},
   "outputs": [],
   "source": [
    "hostel: StudentState = StudentState(name=\"hostel\")\n",
    "canteen: StudentState = StudentState(name=\"canteen\")\n",
    "academic_building: StudentState = StudentState(name=\"academic_building\")\n",
    "\n",
    "eat: Action = Action(name=\"eat\")\n",
    "attend_class: Action = Action(name=\"attend_class\")\n",
    "\n",
    "mdp = MarkovDecisionProcess()"
   ]
  },
  {
   "cell_type": "code",
   "execution_count": 40,
   "metadata": {},
   "outputs": [
    {
     "data": {
      "text/plain": [
       "array([[-0.11287461,  0.08922628, -0.33319502, -1.26860087],\n",
       "       [ 0.        ,  0.        ,  0.        ,  0.        ],\n",
       "       [ 0.24872478,  0.02246836,  0.96927444,  0.76323481]])"
      ]
     },
     "execution_count": 40,
     "metadata": {},
     "output_type": "execute_result"
    }
   ],
   "source": [
    "a = np.random.randn(3, 4)\n",
    "a[1, :] = 0\n",
    "a"
   ]
  }
 ],
 "metadata": {
  "kernelspec": {
   "display_name": ".venv",
   "language": "python",
   "name": "python3"
  },
  "language_info": {
   "codemirror_mode": {
    "name": "ipython",
    "version": 3
   },
   "file_extension": ".py",
   "mimetype": "text/x-python",
   "name": "python",
   "nbconvert_exporter": "python",
   "pygments_lexer": "ipython3",
   "version": "3.12.5"
  }
 },
 "nbformat": 4,
 "nbformat_minor": 2
}
